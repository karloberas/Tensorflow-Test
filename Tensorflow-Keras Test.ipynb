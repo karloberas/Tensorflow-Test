{
 "cells": [
  {
   "cell_type": "code",
   "execution_count": 1,
   "metadata": {},
   "outputs": [
    {
     "name": "stderr",
     "output_type": "stream",
     "text": [
      "Using TensorFlow backend.\n"
     ]
    }
   ],
   "source": [
    "import keras\n",
    "from keras.datasets import mnist\n",
    "from keras.models import Sequential\n",
    "from keras.layers import Dense, Dropout\n",
    "from keras.layers import Flatten,  MaxPooling2D, Conv2D\n",
    "from keras.callbacks import TensorBoard"
   ]
  },
  {
   "cell_type": "code",
   "execution_count": 2,
   "metadata": {},
   "outputs": [],
   "source": [
    "(X_train,y_train), (X_test, y_test) = mnist.load_data()\n",
    "\n",
    "X_train = X_train.reshape(60000,28,28,1).astype('float32')\n",
    "X_test = X_test.reshape(10000,28,28,1).astype('float32')\n",
    "\n",
    "X_train /= 255\n",
    "X_test /= 255\n",
    "\n",
    "n_classes = 10\n",
    "y_train = keras.utils.to_categorical(y_train, n_classes)\n",
    "y_test = keras.utils.to_categorical(y_test, n_classes)"
   ]
  },
  {
   "cell_type": "code",
   "execution_count": 6,
   "metadata": {},
   "outputs": [],
   "source": [
    "model = Sequential()\n",
    "model.add(Conv2D(32, kernel_size=(3,3), activation='relu', input_shape=(28,28,1)) )\n",
    "model.add(Conv2D(64, kernel_size=(3,3), activation='relu'))\n",
    "model.add(MaxPooling2D(pool_size=(2,2)))\n",
    "model.add(Dropout(0.25))\n",
    "model.add(Flatten())          \n",
    "model.add(Dense(128, activation='relu'))\n",
    "model.add(Dropout(0.5))\n",
    "model.add(Dense(n_classes, activation='softmax'))"
   ]
  },
  {
   "cell_type": "code",
   "execution_count": 7,
   "metadata": {},
   "outputs": [],
   "source": [
    "model.compile(loss='categorical_crossentropy', optimizer='adam', metrics=['accuracy'])"
   ]
  },
  {
   "cell_type": "code",
   "execution_count": 8,
   "metadata": {},
   "outputs": [],
   "source": [
    "tensor_board = TensorBoard('./logs/LeNet-MNIST-1')"
   ]
  },
  {
   "cell_type": "code",
   "execution_count": 9,
   "metadata": {},
   "outputs": [
    {
     "name": "stdout",
     "output_type": "stream",
     "text": [
      "Train on 60000 samples, validate on 10000 samples\n",
      "Epoch 1/15\n",
      "60000/60000 [==============================] - 11s 191us/step - loss: 0.2353 - acc: 0.9298 - val_loss: 0.0533 - val_acc: 0.9811\n",
      "Epoch 2/15\n",
      "60000/60000 [==============================] - 6s 93us/step - loss: 0.0833 - acc: 0.9750 - val_loss: 0.0434 - val_acc: 0.9857\n",
      "Epoch 3/15\n",
      "60000/60000 [==============================] - 6s 93us/step - loss: 0.0634 - acc: 0.9813 - val_loss: 0.0339 - val_acc: 0.9894\n",
      "Epoch 4/15\n",
      "60000/60000 [==============================] - 5s 90us/step - loss: 0.0522 - acc: 0.9839 - val_loss: 0.0307 - val_acc: 0.9901\n",
      "Epoch 5/15\n",
      "60000/60000 [==============================] - 5s 92us/step - loss: 0.0428 - acc: 0.9864 - val_loss: 0.0298 - val_acc: 0.9898\n",
      "Epoch 6/15\n",
      "60000/60000 [==============================] - 6s 97us/step - loss: 0.0375 - acc: 0.9879 - val_loss: 0.0278 - val_acc: 0.9912\n",
      "Epoch 7/15\n",
      "60000/60000 [==============================] - 6s 94us/step - loss: 0.0331 - acc: 0.9898 - val_loss: 0.0307 - val_acc: 0.9903\n",
      "Epoch 8/15\n",
      "60000/60000 [==============================] - 5s 91us/step - loss: 0.0301 - acc: 0.9900 - val_loss: 0.0282 - val_acc: 0.9921\n",
      "Epoch 9/15\n",
      "60000/60000 [==============================] - 5s 89us/step - loss: 0.0290 - acc: 0.9902 - val_loss: 0.0276 - val_acc: 0.9919\n",
      "Epoch 10/15\n",
      "60000/60000 [==============================] - 5s 91us/step - loss: 0.0257 - acc: 0.9912 - val_loss: 0.0298 - val_acc: 0.9909\n",
      "Epoch 11/15\n",
      "60000/60000 [==============================] - 6s 93us/step - loss: 0.0236 - acc: 0.9921 - val_loss: 0.0314 - val_acc: 0.9915\n",
      "Epoch 12/15\n",
      "60000/60000 [==============================] - 6s 97us/step - loss: 0.0231 - acc: 0.9921 - val_loss: 0.0243 - val_acc: 0.9929\n",
      "Epoch 13/15\n",
      "60000/60000 [==============================] - 6s 95us/step - loss: 0.0201 - acc: 0.9933 - val_loss: 0.0269 - val_acc: 0.9924\n",
      "Epoch 14/15\n",
      "60000/60000 [==============================] - 6s 93us/step - loss: 0.0192 - acc: 0.9936 - val_loss: 0.0280 - val_acc: 0.9921\n",
      "Epoch 15/15\n",
      "60000/60000 [==============================] - 6s 92us/step - loss: 0.0190 - acc: 0.9936 - val_loss: 0.0280 - val_acc: 0.9926\n"
     ]
    },
    {
     "data": {
      "text/plain": [
       "<keras.callbacks.History at 0x7faac9149358>"
      ]
     },
     "execution_count": 9,
     "metadata": {},
     "output_type": "execute_result"
    }
   ],
   "source": [
    "model.fit(X_train, y_train, batch_size=128, epochs=15, verbose=1,\n",
    "          validation_data=(X_test,y_test), callbacks=[tensor_board])"
   ]
  }
 ],
 "metadata": {
  "kernelspec": {
   "display_name": "TensorFlow-GPU",
   "language": "python",
   "name": "tensorflow_gpuenv"
  },
  "language_info": {
   "codemirror_mode": {
    "name": "ipython",
    "version": 3
   },
   "file_extension": ".py",
   "mimetype": "text/x-python",
   "name": "python",
   "nbconvert_exporter": "python",
   "pygments_lexer": "ipython3",
   "version": "3.6.2"
  }
 },
 "nbformat": 4,
 "nbformat_minor": 2
}
